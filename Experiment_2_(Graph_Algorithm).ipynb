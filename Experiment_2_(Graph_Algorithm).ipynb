{
  "nbformat": 4,
  "nbformat_minor": 0,
  "metadata": {
    "colab": {
      "provenance": []
    },
    "kernelspec": {
      "name": "python3",
      "display_name": "Python 3"
    },
    "language_info": {
      "name": "python"
    }
  },
  "cells": [
    {
      "cell_type": "code",
      "source": [
        "import time\n",
        "from collections import defaultdict\n",
        "class Graph:\n",
        "    def __init__(self):\n",
        "        self.graph = defaultdict(list)\n",
        "    def add_edge(self, u, v):\n",
        "        self.graph[u].append(v)\n",
        "    def BFS(self, s):\n",
        "        visited = [False] * (len(self.graph))\n",
        "        queue = []\n",
        "        queue.append(s)\n",
        "        visited[s] = True\n",
        "        while queue:\n",
        "            s = queue.pop(0)\n",
        "            print(s, end=\" \")\n",
        "            for i in self.graph[s]:\n",
        "                if not visited[i]:\n",
        "                    queue.append(i)\n",
        "                    visited[i] = True\n",
        "    def time_taken(self, s):\n",
        "        print(\"\\nTime taken to run BFS:\")\n",
        "        start_time = time.time()\n",
        "        self.BFS(s)\n",
        "        end_time = time.time()\n",
        "        return end_time - start_time\n",
        "if __name__ == '__main__':\n",
        "    g = Graph()\n",
        "    g.add_edge(0, 1)\n",
        "    g.add_edge(0, 2)\n",
        "    g.add_edge(1, 2)\n",
        "    g.add_edge(2, 0)\n",
        "    g.add_edge(2, 3)\n",
        "    g.add_edge(3, 3)\n",
        "    print(\"Following is Breadth First Traversal starting from vertex 2:\")\n",
        "    time_taken = g.time_taken(2)\n",
        "    print(\"Time taken: \", time_taken)"
      ],
      "metadata": {
        "colab": {
          "base_uri": "https://localhost:8080/"
        },
        "id": "dpo25BwtzwRJ",
        "outputId": "d24ddaa3-0328-4ab8-f01f-c97b539125c3"
      },
      "execution_count": null,
      "outputs": [
        {
          "output_type": "stream",
          "name": "stdout",
          "text": [
            "Following is Breadth First Traversal starting from vertex 2:\n",
            "\n",
            "Time taken to run BFS:\n",
            "2 0 3 1 Time taken:  3.8623809814453125e-05\n"
          ]
        }
      ]
    },
    {
      "cell_type": "code",
      "source": [
        "import time\n",
        "\n",
        "class Graph:\n",
        "    def __init__(self, num_vertices):\n",
        "        self.num_vertices = num_vertices\n",
        "        self.adj_list = [[] for _ in range(num_vertices)]\n",
        "\n",
        "    def add_edge(self, v, w):\n",
        "        self.adj_list[v].append(w)\n",
        "        self.adj_list[w].append(v)\n",
        "\n",
        "    def DFS(self, vertex, visited):\n",
        "        visited[vertex] = True\n",
        "        print(vertex, end=' ')\n",
        "        for v in self.adj_list[vertex]:\n",
        "            if not visited[v]:\n",
        "                self.DFS(v, visited)\n",
        "\n",
        "def time_taken(graph, vertex):\n",
        "    print(\"Time of my program:\")\n",
        "    start = time.time()\n",
        "    visited = [False] * graph.num_vertices\n",
        "    graph.DFS(vertex, visited)\n",
        "    end = time.time()\n",
        "    return end - start\n",
        "\n",
        "if __name__ == \"__main__\":\n",
        "    g = Graph(4)\n",
        "    g.add_edge(0, 1)\n",
        "    g.add_edge(0, 2)\n",
        "    g.add_edge(1, 2)\n",
        "    g.add_edge(2, 0)\n",
        "    g.add_edge(2, 3)\n",
        "    g.add_edge(3, 3)\n",
        "    print(\"Following is DFS from (starting from vertex 2)\")\n",
        "    print(\"Time taken:\", time_taken(g, 2), \"seconds\")\n"
      ],
      "metadata": {
        "colab": {
          "base_uri": "https://localhost:8080/"
        },
        "id": "1bBdCyHs0dEK",
        "outputId": "dc545c75-bd81-4a31-d64e-1ed617b46663"
      },
      "execution_count": null,
      "outputs": [
        {
          "output_type": "stream",
          "name": "stdout",
          "text": [
            "Following is DFS from (starting from vertex 2)\n",
            "Time of my program:\n",
            "2 0 1 3 Time taken: 3.075599670410156e-05 seconds\n"
          ]
        }
      ]
    },
    {
      "cell_type": "code",
      "source": [
        "import heapq\n",
        "import time\n",
        "\n",
        "def dijkstra(graph, start):\n",
        "    distances = [float('inf')] * len(graph)\n",
        "    distances[start] = 0\n",
        "    heap = [(0, start)]\n",
        "    while heap:\n",
        "        dist, curr = heapq.heappop(heap)\n",
        "        if dist > distances[curr]:\n",
        "            continue\n",
        "        for neighbor, weight in graph[curr].items():\n",
        "            new_dist = dist + weight\n",
        "            if new_dist < distances[neighbor]:\n",
        "                distances[neighbor] = new_dist\n",
        "                heapq.heappush(heap, (new_dist, neighbor))\n",
        "def time_taken(graph, start):\n",
        "    print(\"Time taken by dijkstra function:\")\n",
        "    start_time = time.time()\n",
        "    dijkstra(graph, start)\n",
        "    end_time = time.time()\n",
        "    return end_time - start_time\n",
        "if __name__ == \"__main__\":\n",
        "    graph = {\n",
        "        0: {1: 4, 7: 8},\n",
        "        1: {0: 4, 2: 8, 7: 11},\n",
        "        2: {1: 8, 3: 7, 8: 2, 5: 4},\n",
        "        3: {2: 7, 4: 9, 5: 14},\n",
        "        4: {3: 9, 5: 10},\n",
        "        5: {2: 4, 3: 14, 4: 10, 6: 2},\n",
        "        6: {5: 2, 7: 1, 8: 6},\n",
        "        7: {0: 8, 1: 11, 6: 1, 8: 7},\n",
        "        8: {2: 2, 6: 6, 7: 7}\n",
        "    }\n",
        "    start = 0\n",
        "    distances = dijkstra(graph, start)\n",
        "    print(\"The shortest distances from vertex {} to all other vertices are: {}\".format(start, distances))\n",
        "    elapsed_time = time_taken(graph, start)\n",
        "    print(\"Time taken by dijkstra function: {} seconds\".format(elapsed_time))"
      ],
      "metadata": {
        "colab": {
          "base_uri": "https://localhost:8080/"
        },
        "id": "oKU2qDNf2hWp",
        "outputId": "ca451e97-9954-4c81-9dd3-7ba0461e5d81"
      },
      "execution_count": null,
      "outputs": [
        {
          "output_type": "stream",
          "name": "stdout",
          "text": [
            "The shortest distances from vertex 0 to all other vertices are: None\n",
            "Time taken by dijkstra function:\n",
            "Time taken by dijkstra function: 1.8358230590820312e-05 seconds\n"
          ]
        }
      ]
    },
    {
      "cell_type": "code",
      "source": [
        "fromcollections import defaultdict\n",
        "import sys\n",
        "import time\n",
        "class Graph:\n",
        "    def __init__(self, vertices):\n",
        "        self.V = vertices\n",
        "        self.graph = defaultdict(list)\n",
        "    def addEdge(self, u, v, w):\n",
        "        self.graph[u].append((v, w))\n",
        "        self.graph[v].append((u, w))\n",
        "    def primMST(self):\n",
        "        key = [sys.maxsize] * self.V\n",
        "        parent = [None] * self.V\n",
        "        key[0] = 0\n",
        "        mstSet = [False] * self.V\n",
        "        for cout in range(self.V):\n",
        "            u = self.minKey(key, mstSet)\n",
        "            mstSet[u] = True\n",
        "            for v, weight in self.graph[u]:\n",
        "                if not mstSet[v] and key[v] > weight:\n",
        "                    key[v] = weight\n",
        "                    parent[v] = u\n",
        "        self.printMST(parent)\n",
        "    def minKey(self, key, mstSet):\n",
        "        min = sys.maxsize\n",
        "        min_index = -1\n",
        "        for v in range(self.V):\n",
        "            if key[v] < min and not mstSet[v]:\n",
        "                min = key[v]\n",
        "                min_index = v\n",
        "        return min_index\n",
        "    def printMST(self, parent):\n",
        "        print(\"Edge \\tWeight\")\n",
        "        for i in range(1, self.V):\n",
        "            weight = self.getWeight(i, parent[i])\n",
        "            print(parent[i], \"-\", i, \"\\t\", weight)\n",
        "    def getWeight(self, i, parent):\n",
        "        for v, weight in self.graph[i]:\n",
        "            if v == parent:\n",
        "                return weight\n",
        "        return None\n",
        "def time_taken(graph):\n",
        "    print(\"Time of my program\")\n",
        "    s = time.time()\n",
        "    graph.primMST()\n",
        "    return time.time() - s\n",
        "g = Graph(5)\n",
        "g.addEdge(0, 1, 2)\n",
        "g.addEdge(0, 3, 6)\n",
        "g.addEdge(1, 2, 3)\n",
        "g.addEdge(1, 3, 8)\n",
        "g.addEdge(1, 4, 5)\n",
        "g.addEdge(2, 4, 7)\n",
        "g.addEdge(3, 4, 9)\n",
        "t = time_taken(g)\n",
        "print(\"Time taken:\", t)\n"
      ],
      "metadata": {
        "colab": {
          "base_uri": "https://localhost:8080/"
        },
        "id": "wC-uLEMQ-qA3",
        "outputId": "0c5b95ea-37a0-4df9-df93-939861150504"
      },
      "execution_count": null,
      "outputs": [
        {
          "output_type": "stream",
          "name": "stdout",
          "text": [
            "Time of my program\n",
            "Edge \tWeight\n",
            "0 - 1 \t 2\n",
            "1 - 2 \t 3\n",
            "0 - 3 \t 6\n",
            "1 - 4 \t 5\n",
            "Time taken: 0.00011587142944335938\n"
          ]
        }
      ]
    },
    {
      "cell_type": "code",
      "source": [
        "import time\n",
        "import matplotlib.pyplot as plt\n",
        "def floydWarshall(graph):\n",
        "    V = len(graph)\n",
        "    dist = list(map(lambda i: list(map(lambda j: j, i)), graph))\n",
        "    for k in range(V):\n",
        "        for i in range(V):\n",
        "            for j in range(V):\n",
        "                dist[i][j] = min(dist[i][j], dist[i][k] + dist[k][j])\n",
        "    return dist\n",
        "def time_taken(graph):\n",
        "    print(\"Time taken by my program:\")\n",
        "    s = time.time()\n",
        "    floydWarshall(graph)\n",
        "    return time.time() - s\n",
        "graph = [[0, 5, 99999, 99999],\n",
        "         [50, 0, 15, 5],\n",
        "         [30, 99999, 0, 99999],\n",
        "         [15, 99999, 5, 0]]\n",
        "print(floydWarshall(graph))\n",
        "print(time_taken(graph))\n"
      ],
      "metadata": {
        "colab": {
          "base_uri": "https://localhost:8080/"
        },
        "id": "tF2vngtcBjRn",
        "outputId": "cbc4bee4-d0c9-4ae8-c094-6f2288e25689"
      },
      "execution_count": null,
      "outputs": [
        {
          "output_type": "stream",
          "name": "stdout",
          "text": [
            "[[0, 5, 15, 10], [20, 0, 10, 5], [30, 35, 0, 40], [15, 20, 5, 0]]\n",
            "Time taken by my program:\n",
            "2.7418136596679688e-05\n"
          ]
        }
      ]
    },
    {
      "cell_type": "markdown",
      "source": [],
      "metadata": {
        "id": "uKMugmoKTV5V"
      }
    },
    {
      "cell_type": "code",
      "source": [
        "import time\n",
        "import matplotlib.pyplot as plt\n",
        "\n",
        "def transitiveClosure(graph):\n",
        "    V = len(graph)\n",
        "    reach = [[graph[i][j] for j in range(V)] for i in range(V)]  # Using list comprehension for clarity\n",
        "    for k in range(V):\n",
        "        for i in range(V):\n",
        "            for j in range(V):\n",
        "                reach[i][j] = reach[i][j] or (reach[i][k] and reach[k][j])\n",
        "    return reach\n",
        "\n",
        "def time_taken(graph):\n",
        "    print(\"Time taken to compute transitive closure:\")\n",
        "    start = time.time()\n",
        "    transitiveClosure(graph)\n",
        "    end = time.time()\n",
        "    return end - start\n",
        "\n",
        "# Example usage\n",
        "graph = [[1, 1, 0, 1],\n",
        "         [0, 1, 1, 0],\n",
        "         [0, 0, 1, 1],\n",
        "         [0, 0, 0, 1]]\n",
        "print(transitiveClosure(graph))\n",
        "print(time_taken(graph))\n"
      ],
      "metadata": {
        "id": "FIvC6IJtVNMu",
        "colab": {
          "base_uri": "https://localhost:8080/"
        },
        "outputId": "d309a1b5-e567-4536-b4c3-3682c4c294a7"
      },
      "execution_count": null,
      "outputs": [
        {
          "output_type": "stream",
          "name": "stdout",
          "text": [
            "[[1, 1, 1, 1], [0, 1, 1, 1], [0, 0, 1, 1], [0, 0, 0, 1]]\n",
            "Time taken to compute transitive closure:\n",
            "2.956390380859375e-05\n"
          ]
        }
      ]
    }
  ]
}