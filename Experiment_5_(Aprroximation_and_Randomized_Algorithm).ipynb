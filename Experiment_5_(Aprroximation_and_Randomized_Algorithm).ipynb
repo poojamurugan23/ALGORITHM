{
  "nbformat": 4,
  "nbformat_minor": 0,
  "metadata": {
    "colab": {
      "provenance": []
    },
    "kernelspec": {
      "name": "python3",
      "display_name": "Python 3"
    },
    "language_info": {
      "name": "python"
    }
  },
  "cells": [
    {
      "cell_type": "code",
      "source": [
        "import numpy as np\n",
        "import time\n",
        "def tsp_dp(graph, n):\n",
        "    dp = np.ones((1 << n, n)) * np.inf\n",
        "    dp[1][0] = 0  # Starting point\n",
        "    for mask in range(1, 1 << n):\n",
        "        for i in range(n):\n",
        "            if not (mask & (1 << i)):\n",
        "                continue\n",
        "            for j in range(n):\n",
        "                if i == j or not (mask & (1 << j)):\n",
        "                    continue\n",
        "                dp[mask][i] = min(dp[mask][i], dp[mask ^ (1 << i)][j] + graph[j][i])\n",
        "    return min([dp[(1 << n) - 1][i] + graph[i][0] for i in range(n)])\n",
        "def tsp_nn(graph, n):\n",
        "    visited = [0] * n\n",
        "    visited[0] = 1\n",
        "    curr = 0\n",
        "    ans = 0\n",
        "    for i in range(n - 1):\n",
        "        next = -1\n",
        "        for j in range(n):\n",
        "            if visited[j] == 0 and (next == -1 or graph[curr][j] < graph[curr][next]):\n",
        "                next = j\n",
        "        ans += graph[curr][next]\n",
        "        curr = next\n",
        "        visited[curr] = 1\n",
        "    ans += graph[curr][0]\n",
        "    return ans\n",
        "def tsp_error(graph, n):\n",
        "    opt = tsp_dp(graph, n)\n",
        "    approx = tsp_nn(graph, n)\n",
        "    return (approx - opt) / opt * 100\n",
        "def time_taken(graph, n):\n",
        "    start = time.time()\n",
        "    tsp_dp(graph, n)\n",
        "    end = time.time()\n",
        "    return end - start\n",
        "n = 4\n",
        "graph = np.array([[0, 10, 15, 20], [10, 0, 35, 25], [15, 35, 0, 30], [20, 25, 30, 0]])\n",
        "print(\"Optimal Solution:\", tsp_dp(graph, n))\n",
        "print(\"Approximation:\", tsp_nn(graph, n))\n",
        "print(\"Error:\", tsp_error(graph, n), \"%\")\n",
        "print(\"Time taken:\", time_taken(graph, n), \"seconds\")\n"
      ],
      "metadata": {
        "colab": {
          "base_uri": "https://localhost:8080/"
        },
        "id": "TiehExMm9BB3",
        "outputId": "0098a894-7565-4fbe-addf-30b52e3e8285"
      },
      "execution_count": null,
      "outputs": [
        {
          "output_type": "stream",
          "name": "stdout",
          "text": [
            "Optimal Solution: 80.0\n",
            "Approximation: 80\n",
            "Error: 0.0 %\n",
            "Time taken: 0.00020933151245117188 seconds\n"
          ]
        }
      ]
    },
    {
      "cell_type": "code",
      "source": [
        "import random\n",
        "import time\n",
        "def quick_select(arr, k):\n",
        "    pivot = random.choice(arr)\n",
        "    left = [x for x in arr if x < pivot]\n",
        "    right = [x for x in arr if x > pivot]\n",
        "    if k <= len(left):\n",
        "        return quick_select(left, k)\n",
        "    elif k == len(left) + 1:\n",
        "        return pivot\n",
        "    else:\n",
        "        return quick_select(right, k - (len(left) + 1))\n",
        "def reservoir_sampling(arr, k):\n",
        "    reservoir = arr[:k]\n",
        "    for i in range(k, len(arr)):\n",
        "        j = random.randint(0, i)\n",
        "        if j < k:\n",
        "            reservoir[j] = arr[i]\n",
        "    return reservoir\n",
        "def time_taken(func, arr, k):\n",
        "    print(\"Time of my program\")\n",
        "    start = time.time()\n",
        "    func(arr, k)\n",
        "    end = time.time()\n",
        "    return end - start\n",
        "arr = [1, 2, 3, 4, 5, 6, 7, 8, 9, 10]\n",
        "k = 5\n",
        "print(\"QuickSelect:\", quick_select(arr, k))\n",
        "print(\"Reservoir Sampling:\", reservoir_sampling(arr, k))\n",
        "quickselect_time = time_taken(quick_select, arr, k)\n",
        "print(\"QuickSelect Time:\", quickselect_time)\n",
        "reservoir_time = time_taken(reservoir_sampling, arr, k)\n",
        "print(\"Reservoir Sampling Time:\", reservoir_time)\n"
      ],
      "metadata": {
        "colab": {
          "base_uri": "https://localhost:8080/"
        },
        "id": "2wp7ncWg9Z01",
        "outputId": "ad0839b0-c9ba-4cc3-b7d4-a3abb3f615a9"
      },
      "execution_count": null,
      "outputs": [
        {
          "output_type": "stream",
          "name": "stdout",
          "text": [
            "QuickSelect: 5\n",
            "Reservoir Sampling: [1, 2, 3, 8, 6]\n",
            "Time of my program\n",
            "QuickSelect Time: 1.33514404296875e-05\n",
            "Time of my program\n",
            "Reservoir Sampling Time: 8.344650268554688e-06\n"
          ]
        }
      ]
    }
  ]
}